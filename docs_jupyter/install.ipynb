{
 "cells": [
  {
   "cell_type": "markdown",
   "metadata": {},
   "source": [
    "# Installing bulker\n",
    "\n",
    "Install from [GitHub releases](https://github.com/databio/bulker/releases) or from PyPI using `pip`:\n",
    "\n",
    "- `pip install --user bulker`: install into user space.\n",
    "- `pip install --user --upgrade bulker`: update in user space.\n",
    "- `pip install bulker`: install into an active virtual environment.\n",
    "- `pip install --upgrade bulker`: update in virtual environment.\n",
    "\n",
    "See if your install worked by calling `bulker -h` on the command line. If the `bulker` executable in not in your `$PATH`, append this to your `.bashrc` or `.profile` (or `.bash_profile` on macOS):\n",
    "\n",
    "```{console}\n",
    "export PATH=~/.local/bin:$PATH\n",
    "```\n"
   ]
  },
  {
   "cell_type": "markdown",
   "metadata": {},
   "source": [
    "\n",
    "# Initializing a bulker configuration file\n",
    "\n",
    "On a fresh install, bulker comes with a locally installed config file, which you can explore by typing `bulker list`. If you want a group-shared bulker config, or if you want to change the volumes, environment variables, or container engine, you will need to configure bulker. Start by initializing an empty bulker config file:\n"
   ]
  },
  {
   "cell_type": "code",
   "execution_count": 1,
   "metadata": {},
   "outputs": [
    {
     "name": "stdout",
     "output_type": "stream",
     "text": [
      "Guessing container engine is docker.\n",
      "Wrote new configuration file: bulker_config.yaml\n"
     ]
    }
   ],
   "source": [
    "export BULKERCFG=\"bulker_config.yaml\"\n",
    "bulker init -c $BULKERCFG"
   ]
  },
  {
   "cell_type": "markdown",
   "metadata": {},
   "source": [
    "This `init` command will create a default config file. It guesses if your system is set up to use docker or singularity. You can use `-e docker` or `-e singularity` to force it.\n",
    "\n",
    "The `bulker activate`, `load`, and `list` commands require knowing where this genome config file is. You can pass it on the command line all the time (using the -c parameter), but this gets old. An alternative is to set up the $BULKERCFG environment variable. Bulker will automatically use the config file in this environmental variable if it exists. Add this line to your `.bashrc` or `.profile` if you want it to persist for future command-line sessions:\n",
    "\n",
    "```{console}\n",
    "export BULKERCFG=/path/to/bulker_config.yaml\n",
    "```\n",
    "\n",
    " You can always specify `-c` if you want to override the value in the $BULKERCFG variable on an ad-hoc basis."
   ]
  },
  {
   "cell_type": "markdown",
   "metadata": {},
   "source": [
    "# Configuring bulker\n",
    "\n",
    "The bulker config file is where you put the container settings that will determine how your executables behave. \n",
    "\n",
    "## Example configuration file\n",
    "\n",
    "Below you can find the details, but first, take a look at the config file to see what you can modify:\n"
   ]
  },
  {
   "cell_type": "code",
   "execution_count": 2,
   "metadata": {},
   "outputs": [
    {
     "name": "stdout",
     "output_type": "stream",
     "text": [
      "bulker:\n",
      "  volumes: ['/tmp']\n",
      "  envvars: ['DISPLAY']\n",
      "  default_crate_folder: ${HOME}/bulker_crates\n",
      "  singularity_image_folder: ${HOME}/simages\n",
      "  container_engine: docker\n",
      "  default_namespace: bulker\n",
      "  executable_template: templates/docker_executable.jinja2\n",
      "  shell_template: templates/docker_shell.jinja2\n",
      "  build_template: templates/docker_build.jinja2\n",
      "  crates: null\n"
     ]
    }
   ],
   "source": [
    "cat $BULKERCFG"
   ]
  },
  {
   "cell_type": "markdown",
   "metadata": {},
   "source": [
    "## File systems (volumes)"
   ]
  },
  {
   "cell_type": "markdown",
   "metadata": {},
   "source": [
    "One of the first things you'll want to do to make bulker fit your host environment is add any file systems. By default, containers are isolated from the host file system. If you're using bulker to create drop-in replacements to your native tools, though, you probably want these tools to have access to the same file systems that a native tool would.\n",
    "\n",
    "The `volumes` section in the bulker config file is where you specify what file systems you want mounted on your containers. Anything you put here will automatically be mounted on *all* your containers. By default, the config  file will say:\n",
    "\n",
    "```\n",
    "bulker:\n",
    "  volumes: ['$HOME', '/tmp']\n",
    "```\n",
    "\n",
    "This will make sure all your containers can see anything in `$HOME` or on `/tmp`. Add any others you require.\n"
   ]
  },
  {
   "cell_type": "markdown",
   "metadata": {},
   "source": [
    "## Environment variables\n",
    "\n",
    "The other major host-specific information you'll need to add to your config file is the list of environment variables you want available within your containers. You should add these under `envvars`.\n",
    "\n",
    "## Other config options\n",
    "\n",
    "The `default_crate_folder` will determine where the crates (folders with executables) are saved. The `crates` section is maintained by bulker -- it will add a new entry into this section whenever you run `bulker load`, and this is what it reads when you request `bulker list` or `bulker activate`.\n",
    "\n",
    "You can also adjust the `default_namespace` to make it easier for you to load your own crates.\n",
    "\n",
    "You can change the `registry_url` to point to a different bulker registry.\n"
   ]
  }
 ],
 "metadata": {
  "kernelspec": {
   "display_name": "Bash",
   "language": "bash",
   "name": "bash"
  },
  "language_info": {
   "codemirror_mode": "shell",
   "file_extension": ".sh",
   "mimetype": "text/x-sh",
   "name": "bash"
  }
 },
 "nbformat": 4,
 "nbformat_minor": 2
}
