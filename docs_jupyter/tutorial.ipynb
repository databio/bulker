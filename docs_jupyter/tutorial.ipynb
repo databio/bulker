{
 "cells": [
  {
   "cell_type": "markdown",
   "metadata": {},
   "source": [
    "# Tutorial\n",
    "\n",
    "I assume you've already gone through the [install and configure](install.md) instructions. Let's initialize a bulker config file for this tutorial:"
   ]
  },
  {
   "cell_type": "code",
   "execution_count": 5,
   "metadata": {},
   "outputs": [
    {
     "name": "stdout",
     "output_type": "stream",
     "text": [
      "Guessing container engine is docker.\n",
      "Wrote new configuration file: bulker_config.yaml\n"
     ]
    }
   ],
   "source": [
    "rm \"bulker_config.yaml\"\n",
    "export BULKERCFG=\"bulker_config.yaml\"\n",
    "bulker init -c $BULKERCFG"
   ]
  },
  {
   "cell_type": "markdown",
   "metadata": {},
   "source": [
    "## Terminology\n",
    "\n",
    "Let's start with a few terms:\n",
    "\n",
    "1. **crate**. A collection of containerized executables. A crate is analogous to a docker image (but it provides *multiple* commands by pointing to *multiple* images).\n",
    "\n",
    "2. **manifest**. A manifest defines a crate. It is a list of commands and images to be included in the crate. A manifest is analogous to a Dockerfile. It could be thought of as a *Cratefile*.\n",
    "\n",
    "3. **load**. Loading a manifest will create a local folder with executables for each command in the manifest. Loading a manifest is analogous to building or pulling an image.\n",
    "\n",
    "4. **activate**. Activating a crate is what allows you to run the commands in a crate. Activating is analogous to starting a container. Any loaded crates are available to activate. Activating a crate does nothing more than prepend the crate folder to your `PATH` variable.\n"
   ]
  },
  {
   "cell_type": "markdown",
   "metadata": {},
   "source": [
    "\n",
    "## Loading crates\n",
    "\n",
    "I assume you've followed the instructions to [install and configure](install.md) bulker. Next, type `bulker list` to see what crates you have available. If you've not loaded anything, it should be empty:\n"
   ]
  },
  {
   "cell_type": "code",
   "execution_count": 6,
   "metadata": {},
   "outputs": [
    {
     "name": "stdout",
     "output_type": "stream",
     "text": [
      "Bulker config: bulker_config.yaml\n",
      "Available crates:\n",
      "No crates available. Use 'bulker load' to load a crate.\n"
     ]
    },
    {
     "ename": "",
     "evalue": "1",
     "output_type": "error",
     "traceback": []
    }
   ],
   "source": [
    "bulker list"
   ]
  },
  {
   "cell_type": "markdown",
   "metadata": {},
   "source": [
    "Let's load a demo crate. There are a few ways to load a manifest: either from a bulker registry, or directly from a file."
   ]
  },
  {
   "cell_type": "markdown",
   "metadata": {},
   "source": [
    "\n",
    "### Using a bulker registry\n",
    "\n",
    "Here's a [manifest](http://big.databio.org/bulker/bulker/demo.yaml) that describes 2 commands:\n",
    "```yaml\n",
    "manifest:\n",
    "  name: demo\n",
    "  version: 1.0.0\n",
    "  commands:\n",
    "  - command: cowsay\n",
    "    docker_image: nsheff/cowsay\n",
    "    docker_command: cowsay\n",
    "    dockerargs: \"-i\"\n",
    "  - command: fortune\n",
    "    docker_image: nsheff/fortune\n",
    "    docker_command: fortune\n",
    "```\n"
   ]
  },
  {
   "cell_type": "markdown",
   "metadata": {},
   "source": [
    "\n",
    "This manifest is located in the bulker registry, under the name `bulker/demo`. Here 'bulker' is the namespace (think of it as the group name) and 'demo' is the name of the crate to load. Since 'bulker' is the default namespace, you can load it like this: \n"
   ]
  },
  {
   "cell_type": "code",
   "execution_count": 7,
   "metadata": {},
   "outputs": [
    {
     "name": "stdout",
     "output_type": "stream",
     "text": [
      "Bulker config: bulker_config.yaml\n",
      "Got URL: http://big.databio.org/bulker/bulker/demo.yaml\n",
      "Executable template: /home/nsheff/.local/lib/python3.5/site-packages/bulker/templates/docker_executable.jinja2\n",
      "Loading manifest: 'demo'. Activate with 'bulker activate demo'.\n",
      "Commands available: cowsay, fortune\n"
     ]
    }
   ],
   "source": [
    "bulker load demo"
   ]
  },
  {
   "cell_type": "markdown",
   "metadata": {},
   "source": [
    "Doing `bulker load bulker/demo:default` would do the same thing. That's how you load any crate, from any namespace, from the registry. "
   ]
  },
  {
   "cell_type": "markdown",
   "metadata": {},
   "source": [
    "### Loading crates from a file\n",
    "\n",
    "You can also load any manifest by pointing to the yaml file with the `-f` argument: \n",
    "\n",
    "```\n",
    "bulker load demo -f http://big.databio.org/bulker/bulker/demo.yaml\n",
    "```"
   ]
  },
  {
   "cell_type": "markdown",
   "metadata": {},
   "source": [
    "\n",
    "Here, the registry path ('demo') indicates to bulker what you want to name this crate. You can name it whatever you want, since you're loading it directly from a file and not from the registry...so you can do `bulker load myspace/mycrate -f /path/to/file.yaml`.\n",
    "\n",
    "Once you've loaded a crate, if you type `bulker list` you should see the `demo` crate available for activation. But first, let's point out the `-b` argument, which you can pass to `bulker load`. By default, all `bulker load` does is create a folder of executables. *It does not actually pull or build any images*. Docker will automatically pull these by default as soon as you use them, which is nice, but you might rather just grab them all now instead of waiting for that. In this case, just pass `-b` to your `bulker load` command:\n"
   ]
  },
  {
   "cell_type": "code",
   "execution_count": 8,
   "metadata": {},
   "outputs": [
    {
     "name": "stdout",
     "output_type": "stream",
     "text": [
      "Bulker config: bulker_config.yaml\n",
      "Got URL: http://big.databio.org/bulker/bulker/demo.yaml\n",
      "Executable template: /home/nsheff/.local/lib/python3.5/site-packages/bulker/templates/docker_executable.jinja2\n",
      "Building images with template: /home/nsheff/.local/lib/python3.5/site-packages/bulker/templates/docker_build.jinja2\n",
      "Removing all executables in: /home/nsheff/bulker_crates/bulker/demo/default\n",
      "Using default tag: latest\n",
      "latest: Pulling from nsheff/cowsay\n",
      "Digest: sha256:14fa1f533678750afd09536872e068e732ae4f735c52473450495d5af760c2e3\n",
      "Status: Image is up to date for nsheff/cowsay:latest\n",
      "Container available at: /home/nsheff/simages/nsheff/cowsay\n",
      "Using default tag: latest\n",
      "latest: Pulling from nsheff/fortune\n",
      "Digest: sha256:a980b4b333a8b89acf4c2fe90dde5da93898ab574a6d2e88152398724667957b\n",
      "Status: Image is up to date for nsheff/fortune:latest\n",
      "Container available at: /home/nsheff/simages/nsheff/fortune\n",
      "Loading manifest: 'demo'. Activate with 'bulker activate demo'.\n",
      "Commands available: cowsay, fortune\n"
     ]
    }
   ],
   "source": [
    "bulker load demo -b -r"
   ]
  },
  {
   "cell_type": "markdown",
   "metadata": {},
   "source": [
    "Now, bulker will instruct docker (or singularity) to pull all the images required for all the executables in this crate. (The `-r` just forces an overwrite without prompting). Now we can see it in our available local crates: "
   ]
  },
  {
   "cell_type": "code",
   "execution_count": 9,
   "metadata": {},
   "outputs": [
    {
     "name": "stdout",
     "output_type": "stream",
     "text": [
      "Bulker config: bulker_config.yaml\n",
      "Available crates:\n",
      "bulker/demo:default -- /home/nsheff/bulker_crates/bulker/demo/default\n"
     ]
    },
    {
     "ename": "",
     "evalue": "1",
     "output_type": "error",
     "traceback": []
    }
   ],
   "source": [
    "bulker list"
   ]
  },
  {
   "cell_type": "markdown",
   "metadata": {},
   "source": [
    "\n",
    "\n",
    "## Running commands using bulker crates\n",
    "\n",
    "Once you have loaded a crate, all it means is there's a folder somewhere on your computer with a bunch of executables. You can use it like that if you like, by just running these commands directly. For example, the demo crate by default will create the following path: '$HOME/bulker_crates/bulker/demo/default/cowsay'. You can execute this by including the full path:"
   ]
  },
  {
   "cell_type": "code",
   "execution_count": 10,
   "metadata": {},
   "outputs": [
    {
     "name": "stdout",
     "output_type": "stream",
     "text": [
      " _____\n",
      "< boo >\n",
      " -----\n",
      "        \\   ^__^\n",
      "         \\  (oo)\\_______\n",
      "            (__)\\       )\\/\\\n",
      "                ||----w |\n",
      "                ||     ||\n"
     ]
    }
   ],
   "source": [
    "$HOME/bulker_crates/bulker/demo/default/cowsay boo"
   ]
  },
  {
   "cell_type": "markdown",
   "metadata": {},
   "source": [
    "\n",
    "This example demonstrates how simple and flexible bulker is under the hood. But using commands like this is cumbersome. It simplifies things if you add these commands to your `PATH`, plus, then you can more easily use *sets* of commands as a kind of controlled computational environment. Bulker provides two ways to do this conveniently, depending on your use case: `bulker activate`, and `bulker run`.\n",
    "\n",
    "- *activate*. This will add all commands from a given crate to your PATH and give you a terminal where you can use them. You want to use activate if you want to manage crates like namespaces that you can turn on or off. This is useful for controlling which software versions are used for which tasks, because the manifest controls the versions of software included in a crate.\n",
    "\n",
    "- *run*. This will run a single command in a new environment that has a crate prepended to the PATH.\n",
    "\n",
    "Try it out with this command:\n"
   ]
  },
  {
   "cell_type": "code",
   "execution_count": 11,
   "metadata": {},
   "outputs": [
    {
     "name": "stdout",
     "output_type": "stream",
     "text": [
      "Bulker config: bulker_config.yaml\n",
      "Activating crate: demo\n",
      "\n",
      " _________________________________________\n",
      "/ You are deeply attached to your friends \\\n",
      "\\ and acquaintances.                      /\n",
      " -----------------------------------------\n",
      "        \\   ^__^\n",
      "         \\  (oo)\\_______\n",
      "            (__)\\       )\\/\\\n",
      "                ||----w |\n",
      "                ||     ||\n"
     ]
    }
   ],
   "source": [
    "bulker run demo \"fortune | cowsay\""
   ]
  },
  {
   "cell_type": "markdown",
   "metadata": {},
   "source": [
    "\n",
    "## The advantage of bulker over vanilla containers\n",
    "\n",
    "On the surface, this seems the same as running this command in a container that includes both fortune and cowsay. Indeed, the user experience is pretty similar. What separates this process from a typical container use is that our command is actually not running in a container, but in the host shell, and using *two commands that each run in separate containers*. There is no container that contains both `fortune` and `cowsay`; instead, we have individual containers for each command, and then wrapped each command in an executable. Both of these commands are in our PATH because they're both included in the crate.\n",
    "\n",
    "## Activating multiple crates\n",
    "\n",
    "You can also pass a comma-separated list of crates to either `run` or `activate`, which will merge executables from two different crates. This is not practical using vanilla containers because it requires you to build a new container that contained the software from both containers, which would eliminate the advantages of modularity and increase container bloat and disk use. \n",
    "\n",
    "As an example, let's load another demo crate that adds a new command `pi`, which prints out `pi` to many digits. We can get our cow to quote these pi definitions by activating both of these crates.\n"
   ]
  },
  {
   "cell_type": "code",
   "execution_count": 12,
   "metadata": {},
   "outputs": [
    {
     "name": "stdout",
     "output_type": "stream",
     "text": [
      "Bulker config: bulker_config.yaml\n",
      "Got URL: http://big.databio.org/bulker/bulker/pi.yaml\n",
      "Executable template: /home/nsheff/.local/lib/python3.5/site-packages/bulker/templates/docker_executable.jinja2\n",
      "Building images with template: /home/nsheff/.local/lib/python3.5/site-packages/bulker/templates/docker_build.jinja2\n",
      "Using default tag: latest\n",
      "latest: Pulling from nsheff/pi\n",
      "Digest: sha256:6187416a85719fb42bcd4e4c62ffce3b5757c2d17813090cadbd9f4eeb9c9425\n",
      "Status: Image is up to date for nsheff/pi:latest\n",
      "Container available at: /home/nsheff/simages/nsheff/pi\n",
      "Loading manifest: 'pi'. Activate with 'bulker activate pi'.\n",
      "Commands available: pi\n"
     ]
    }
   ],
   "source": [
    "bulker load pi -b -r"
   ]
  },
  {
   "cell_type": "markdown",
   "metadata": {},
   "source": [
    "Now try running a command that requires commands from two different crates:"
   ]
  },
  {
   "cell_type": "code",
   "execution_count": 13,
   "metadata": {},
   "outputs": [
    {
     "name": "stdout",
     "output_type": "stream",
     "text": [
      "Bulker config: bulker_config.yaml\n",
      "Activating crate: pi,demo\n",
      "\n",
      " _________________________________________\n",
      "/ 3.1415926535897932384626433832795028841 \\\n",
      "| 971693993751058209749445923078164062862 |\n",
      "\\ 08998628034825342117067                 /\n",
      " -----------------------------------------\n",
      "        \\   ^__^\n",
      "         \\  (oo)\\_______\n",
      "            (__)\\       )\\/\\\n",
      "                ||----w |\n",
      "                ||     ||\n"
     ]
    }
   ],
   "source": [
    "bulker run pi,demo \"pi | cowsay\""
   ]
  },
  {
   "cell_type": "markdown",
   "metadata": {},
   "source": [
    "You can get the same result using the `activate` method:\n",
    "\n",
    "```\n",
    "bulker activate pi,demo\n",
    "pi | cowsay\n",
    "```"
   ]
  },
  {
   "cell_type": "markdown",
   "metadata": {},
   "source": [
    "Just to make sure you realize what's happening here and why this is so cool: this is *not* a command running in a single container. In fact, the command itself is running in the host shell, and the pipe (`|`) is handled by the host shell. The two executables, `pi` and `cowsay`, are each being run within their own modular containers that do only one thing. And, each of these commands are located in different crates, which are activated simultaneously."
   ]
  },
  {
   "cell_type": "markdown",
   "metadata": {},
   "source": [
    "\n",
    "## Conclusion\n",
    "\n",
    "That's basically it. If you're a workflow developer, all you need to do is [write your own manifest](manifest.md) and distribute it with your workflow; in 3 lines of code, users will be able to run your workflow using modular containers, using the container engine of their choice.\n",
    "\n"
   ]
  }
 ],
 "metadata": {
  "kernelspec": {
   "display_name": "Bash",
   "language": "bash",
   "name": "bash"
  },
  "language_info": {
   "codemirror_mode": "shell",
   "file_extension": ".sh",
   "mimetype": "text/x-sh",
   "name": "bash"
  }
 },
 "nbformat": 4,
 "nbformat_minor": 2
}
